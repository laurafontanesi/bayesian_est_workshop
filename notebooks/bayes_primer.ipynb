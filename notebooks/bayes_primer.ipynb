{
 "cells": [
  {
   "cell_type": "markdown",
   "id": "municipal-observer",
   "metadata": {},
   "source": [
    "# Bayesian probability"
   ]
  },
  {
   "cell_type": "markdown",
   "id": "front-signal",
   "metadata": {},
   "source": [
    "## Useful links:\n",
    "\n",
    "- Aki Vehtari's course: https://github.com/avehtari/BDA_course_Aalto\n",
    "\n",
    "- Great intro on Bayesian probability: https://m-clark.github.io/bayesian-basics/intro.html\n",
    "\n",
    "- Differences between Bayesian and Frequestist approaches: http://jakevdp.github.io/blog/2014/03/11/frequentism-and-bayesianism-a-practical-intro/\n",
    "\n",
    "- Bayesian data analysis (free): http://www.stat.columbia.edu/~gelman/book/\n",
    "\n",
    "- Bayesian cognitive modeling book (first 2 chapters are free): https://bayesmodels.com/\n",
    "\n",
    "- Doing Bayesian data analysis book: https://sites.google.com/site/doingbayesiandataanalysis/home\n",
    "\n",
    "- Visualization in a Bayesian Workflow paper: https://rss.onlinelibrary.wiley.com/doi/full/10.1111/rssa.12378?af=R"
   ]
  },
  {
   "cell_type": "markdown",
   "id": "english-miller",
   "metadata": {},
   "source": [
    "## Bayesian vs. Frequentist"
   ]
  },
  {
   "cell_type": "markdown",
   "id": "listed-quality",
   "metadata": {},
   "source": [
    "Until now, you have seen different methods to estimate parameters using a frequentist approach (maximum likelihood estimation, **MLE**).\n",
    "\n",
    "For a given set of data, using MLE, you estimate one set of parameters:"
   ]
  },
  {
   "cell_type": "code",
   "execution_count": 1,
   "id": "chemical-drink",
   "metadata": {},
   "outputs": [],
   "source": [
    "import numpy as np\n",
    "import statsmodels.api as sm"
   ]
  },
  {
   "cell_type": "code",
   "execution_count": 2,
   "id": "decreased-sodium",
   "metadata": {},
   "outputs": [],
   "source": [
    "x = np.random.normal(0, 1, 100)\n",
    "X = sm.add_constant(x)\n",
    "y = 2 + 1.2*x + np.random.normal(0, 1, size=len(x))"
   ]
  },
  {
   "cell_type": "code",
   "execution_count": 3,
   "id": "qualified-sharp",
   "metadata": {},
   "outputs": [
    {
     "name": "stderr",
     "output_type": "stream",
     "text": [
      "/Users/laurafontanesi/miniconda3/envs/stanenv/lib/python3.7/site-packages/seaborn/_decorators.py:43: FutureWarning: Pass the following variables as keyword args: x, y. From version 0.12, the only valid positional argument will be `data`, and passing other arguments without an explicit keyword will result in an error or misinterpretation.\n",
      "  FutureWarning\n"
     ]
    },
    {
     "data": {
      "image/png": "[encoded data removed]",
      "text/plain": [
       "<Figure size 432x288 with 1 Axes>"
      ]
     },
     "metadata": {
      "needs_background": "light"
     },
     "output_type": "display_data"
    }
   ],
   "source": [
    "import seaborn as sns\n",
    "import matplotlib.pyplot as plt\n",
    "sns.regplot(x, y, fit_reg=False)\n",
    "plt.xlabel(\"x\")\n",
    "plt.ylabel(\"y\")\n",
    "sns.despine();"
   ]
  },
  {
   "cell_type": "code",
   "execution_count": 4,
   "id": "constitutional-credit",
   "metadata": {},
   "outputs": [
    {
     "name": "stdout",
     "output_type": "stream",
     "text": [
      "                            OLS Regression Results                            \n",
      "==============================================================================\n",
      "Dep. Variable:                      y   R-squared:                       0.630\n",
      "Model:                            OLS   Adj. R-squared:                  0.626\n",
      "Method:                 Least Squares   F-statistic:                     166.9\n",
      "Date:                Sat, 20 Feb 2021   Prob (F-statistic):           6.90e-23\n",
      "Time:                        20:21:22   Log-Likelihood:                -141.82\n",
      "No. Observations:                 100   AIC:                             287.6\n",
      "Df Residuals:                      98   BIC:                             292.8\n",
      "Df Model:                           1                                         \n",
      "Covariance Type:            nonrobust                                         \n",
      "==============================================================================\n",
      "                 coef    std err          t      P>|t|      [0.025      0.975]\n",
      "------------------------------------------------------------------------------\n",
      "const          1.9939      0.101     19.719      0.000       1.793       2.195\n",
      "x1             1.2372      0.096     12.921      0.000       1.047       1.427\n",
      "==============================================================================\n",
      "Omnibus:                        2.661   Durbin-Watson:                   1.783\n",
      "Prob(Omnibus):                  0.264   Jarque-Bera (JB):                2.111\n",
      "Skew:                           0.338   Prob(JB):                        0.348\n",
      "Kurtosis:                       3.223   Cond. No.                         1.08\n",
      "==============================================================================\n",
      "\n",
      "Notes:\n",
      "[1] Standard Errors assume that the covariance matrix of the errors is correctly specified.\n"
     ]
    }
   ],
   "source": [
    "model = sm.OLS(y, X)\n",
    "results = model.fit()\n",
    "print(results.summary())"
   ]
  },
  {
   "cell_type": "markdown",
   "id": "invalid-progress",
   "metadata": {},
   "source": [
    "MLE provides as a **point estimate of the model parameters** (in this case, the intercept `const` and slope `x1`) and **confidence intervals** (based on the standard error). I always find the interpretation of such intervals, though, a bit tricky: The idea is that, **if we were to repeat the experiment** x times, the point estimates of the parameters would fall 95% of the times in this interval.\n",
    "\n",
    "In Bayesian statistics, we are interested instead in the **uncertainty around the parameters, given a fixed set of data**. In other word, we want a **probability distribution** of the model parameters, after seeing the data (aka, the posterior probability, see below). This is not something we can get from MLE!\n",
    "\n",
    "In sum, here is where Bayesians and Frequentists' views mostly differ: \n",
    "- Frequentists look at fixed estimated parameters in hypothetical repeated experiments;\n",
    "- Bayesians look at the parameter uncertainty after a specific (fixed) set of data is observed;"
   ]
  },
  {
   "cell_type": "markdown",
   "id": "unlike-report",
   "metadata": {},
   "source": [
    "## Prior and posterior distributions"
   ]
  },
  {
   "cell_type": "markdown",
   "id": "delayed-edgar",
   "metadata": {},
   "source": [
    "In Bayesian parameter estimation, we express most things in terms of **parameter distributions**.\n",
    "\n",
    "First of all, we have **prior distributions**. As the name suggests, prior distributions express the uncertainty around a model's parameters **BEFORE** seeing the data. Why is this even important?\n",
    "\n",
    "![Black swan example](https://specials-images.forbesimg.com/imageserve/5db05452a210800006f03c9a/960x0.jpg?fit=scale)\n",
    "\n",
    "- When a new observation (e.g., I see a white swan) **matches my prior beliefs** (e.g., most swans are white) I am strenghtening my prior beliefs: The more new observations (e.g., the more white swans I see), the stronger my prior beliefs become. \n",
    "- However, when a new observation (e.g., I see a black swan) **does not match my prior beliefs**, this should descrease the certainty of my prior beliefs: The more new non-matching observations I collect (e.g., the more black swans I see), the weaker my prior beliefs become. Crucially, the stronger the prior beliefs, the more non-matching observations (e.g., balck swans) I should collect in order to change them.\n",
    "\n",
    "Therefore, from a Bayesian perspective, the uncertainty around a model's parameters **AFTER** seeing the data (aka the **posterior distributions**) has to include prior beliefs as well.\n",
    "\n",
    "Prior beliefs are also important in all situations in which we need to constantly update the model parameters based on new, incoming information. For example, in adaptive experimental designs when we want to set a certain difficulty level so that each participants will reach e.g. 60% accuracy. Or if we are replicating an experiment with a new group of participants. In these cases, we want to integrate our prior beliefs with the new information to update our posterior beliefs.\n",
    "\n",
    "If this sounds **very intuitive** to you, it is no coincidence, as there are different psychological theories that show similarities between Bayesian updating and different adadptive processes in the brain! :)\n",
    "\n",
    "Here an example of Bayesian updating in an **[expanded judgement task](https://www.sciencedirect.com/science/article/pii/S1053811916302944?via%3Dihub#f0010)**, where participants are asked in which of the 2 columns bricks are falling at a faster rate.\n",
    "\n",
    "In this model, the rate difference is updated after each step, according to the new observations. At the beginning there is equal (but not strong) evidence that the 2 columns have equal rate.\n",
    "\n",
    "![Expanded Judgement Example](https://ars.els-cdn.com/content/image/1-s2.0-S1053811916302944-gr2_lrg.jpg)"
   ]
  },
  {
   "cell_type": "markdown",
   "id": "weird-culture",
   "metadata": {},
   "source": [
    "## Bayes Theorem and likelihood functions"
   ]
  },
  {
   "cell_type": "markdown",
   "id": "provincial-associate",
   "metadata": {},
   "source": [
    "These principles are formalized into the [Bayes Theorem](https://en.wikipedia.org/wiki/Bayes%27_theorem):\n",
    "$$\n",
    "P(A|B) = \\frac{P(A) P(B|A)}{P(B)}\n",
    "$$\n",
    "where A and B are events and $P(B)$ is not 0.\n",
    "\n",
    "In the case of parameter estimation:\n",
    "$$\n",
    "P(\\theta|\\textbf{D}) = \\frac{P(\\theta) P(\\textbf{D} |\\theta)}{P(\\textbf{D})}\n",
    "$$\n",
    "where:\n",
    "\n",
    "- $P(\\theta|\\textbf{D})$ is the posterior probability of the parameter set $\\theta$ after observing the data $\\textbf{D}$\n",
    "- $P(\\textbf{D} |\\theta)$ is the likelihood of the data given $\\theta$\n",
    "- $P(\\theta)$ is the prior probability of the parameter set $\\theta$\n",
    "- and $P(\\textbf{D})$ is the probability of the data irrespective of $\\theta$\n",
    "\n",
    "While $P(\\theta|\\textbf{D})$ and $P(\\textbf{D} |\\theta)$ are conditional probabilities, $P(\\theta)$ and $P(\\textbf{D})$ are marginal probabilities.\n",
    "\n",
    "For our purposes, we will only focus on priors and likelihood when specifying our models, and we will inspect posterior distributions to inspect the models fit to the data.\n",
    "\n",
    "The likelihood function is something very specific of a certain model. Most things you have learned about likelihoods in the frequentist domain are also relevant here.\n",
    "\n",
    "While \"likelihood-free\" Bayesian methods are possible (i.e., for models without a closed-form solution), we will only focus here on models of which we know the likelihood function."
   ]
  },
  {
   "cell_type": "markdown",
   "id": "polished-curtis",
   "metadata": {},
   "source": [
    "## Posterior predictive distributions"
   ]
  },
  {
   "cell_type": "markdown",
   "id": "prerequisite-grave",
   "metadata": {},
   "source": [
    "When assessing the fit of a model to the data, we are often interested in:\n",
    "1. absolute model fit: how well could the model capture the patterns we observed in the data?\n",
    "2. relative model fit: how well could the model capture the data-patterns compared to another model?\n",
    "3. how well does the model generalize to \"new\" data (out of the sample it was used to fit the model in the first place)?\n",
    "\n",
    "**Posterior predictive distributions** are useful to reach all these goals.\n",
    "\n",
    "Once we have obtained the posterior distribution $P(\\theta|\\textbf{D})$, we have an idea of which parameter values are more likely (given the observed data $\\textbf{D}$). Therefore, if we sample $\\theta$ values, we can generate different data sets that will tell us which data are likely under our new model.\n",
    "\n",
    "For example, we estimate the average height of students in class A in a school, using a simple Gaussian distribution. We then:\n",
    "\n",
    "1. want to assess how well our model captures the data. In case, for example, we know that there were a subset of very tall students in the class, what we can do is sample different mean values from the posterior distribution, and for each of them generate data using a Gaussian distribution with that mean. For each of these generated data sets, we calculate the .9 height quantile, so that we have a distribution of .9 height quantiles. At this point we can compare the generated data summary statistics to the one observed in the data the model was fit on. Since the Gaussian model only has 1 mean, this summary statistic will likely not match the one of the data. This is an example of bad absolute model fit.\n",
    "\n",
    "2. now, we fit an alternative model, that assumes two means, one for the \"tall students\" sungroup, and one for everyone else. This model's posterior predictive distribution is more likely to match the observed data pattern. We can thus use this as evidence that this alternative model is better than the simple one-mean model.\n",
    "\n",
    "3. now, we want to know how well this model generalizes to the data of students heights in class B of the same school. Instead of fitting the model again to the data in class B, we can calculate the average heigh and .9 height quantile in class B and use the posterior predictives of the previous models to compare it to them. \n",
    "**QUESTION**:What do you expect to observe?"
   ]
  }
 ],
 "metadata": {
  "kernelspec": {
   "display_name": "Python 3",
   "language": "python",
   "name": "python3"
  },
  "language_info": {
   "codemirror_mode": {
    "name": "ipython",
    "version": 3
   },
   "file_extension": ".py",
   "mimetype": "text/x-python",
   "name": "python",
   "nbconvert_exporter": "python",
   "pygments_lexer": "ipython3",
   "version": "3.7.9"
  }
 },
 "nbformat": 4,
 "nbformat_minor": 5
}
