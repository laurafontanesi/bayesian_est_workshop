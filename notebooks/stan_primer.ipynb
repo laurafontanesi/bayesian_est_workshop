{
 "cells": [
  {
   "cell_type": "markdown",
   "id": "specified-humor",
   "metadata": {},
   "source": [
    "# Bayesian parameter estimation with stan"
   ]
  },
  {
   "cell_type": "markdown",
   "id": "tight-finger",
   "metadata": {},
   "source": [
    "## Useful links\n",
    "\n",
    "- General stan documentation: https://mc-stan.org/users/documentation/\n",
    "\n",
    "- stan for cognitive science: https://cognitive-science-stan.github.io/"
   ]
  },
  {
   "cell_type": "markdown",
   "id": "surgical-boutique",
   "metadata": {},
   "source": [
    "## What is stan"
   ]
  },
  {
   "cell_type": "markdown",
   "id": "developmental-arrangement",
   "metadata": {},
   "source": [
    "[Stan](https://mc-stan.org/) is a probabilistic programming language for statistical inference written in C++.\n",
    "\n",
    "The Stan language is used to specify a Bayesian model and to estimate posterior distributions.\n",
    "\n",
    "Stan was created by a development team consisting of 34 members that includes Andrew Gelman, Bob Carpenter, Matt Hoffman, and Daniel Lee.\n",
    "\n",
    "There are multiple stan interfaces:\n",
    "\n",
    "- CmdStan: command-line executable for the shell\n",
    "- RStan: integration with the R software environment, maintained by Andrew Gelman and colleagues\n",
    "- **PyStan: integration with the Python programming language**\n",
    "- MatlabStan: integration with the MATLAB numerical computing environment\n",
    "- Stan.jl: integration with the Julia programming language\n",
    "- StataStan: integration with Stata\n",
    "\n",
    "We are only going to focus on `pystan`. However, the same stan model code can be used acrossed different interfaces.\n",
    "\n",
    "An explanation of the **algorithms** that make the parameter estimation possible goes beyond the scope of this workshop. I refer to the stan manual section https://mc-stan.org/docs/2_26/reference-manual/algorithms.html for a better overview. I do actually recommend having basic knowledge on sampling algorithms if you intend to use Bayesian parameter estimation in your master/PhD project. Knowing about the sampler and its tuning parameters could help you understand model's diagnostics, failed convergence, failed intialization, etc. Stan uses two Markov chain Monte Carlo (MCMC) algorithms :the Hamiltonian Monte Carlo (HMC) algorithm and its adaptive variant the no-U-turn sampler (NUTS).\n",
    "\n",
    "**Note**:\n",
    "\n",
    "There are several methods for Bayesian parameter estimation, implemented in different languages.\n",
    "\n",
    "An excellent alternative to `stan` in Python is for example [PyMC3](https://docs.pymc.io/), which also uses the NUTS sampler and does not require to learn stan language.\n",
    "\n",
    "Otherwise `JAGS` is an alternative to `stan`, and interfaces to `JAGS` are available in Python, R, and matlab as well."
   ]
  },
  {
   "cell_type": "markdown",
   "id": "alone-cherry",
   "metadata": {},
   "source": [
    "## Stan language\n",
    "\n"
   ]
  },
  {
   "cell_type": "markdown",
   "id": "indoor-regard",
   "metadata": {},
   "source": [
    "### Data Types and Declarations\n",
    "\n",
    "As in C++ (and unlike in Python), every variable used in a Stan program must have a **declared data type**. Only values of that type will be assignable to that variable. Distributions can also be strict in the type of data they accept.\n",
    "\n",
    "For example:\n",
    "```\n",
    "real x[10];\n",
    "matrix[3, 3] m[6, 7];\n",
    "```\n",
    "Specify a 1D array `x` of size 10 made of continuous, unconstrained data, and a 2D array `m` of size 6x7, whose elements are matrices of size 3x3 (also continuous and unconstrained).\n",
    "\n",
    "We can add constraints using `<>`:\n",
    "```\n",
    "int<lower = 1> N;\n",
    "real<upper = 0> log_p;\n",
    "vector<lower = -1, upper = 1>[3] rho;\n",
    "```\n",
    "Constraints are important as they specify ranges of data and parameter values for which the density is not zero. Otherwise, the samplers and optimizers may have any of a number of pathologies including just getting stuck, failure to initialize, excessive Metropolis rejection, or biased draws due to inability to explore the tails of the distribution.\n",
    "\n",
    "```\n",
    "int<lower=0,upper=1> cond;\n",
    "real<lower=0> sigma;\n",
    "```\n",
    "**QUESTION**: What values can the variable `cond` and `sigma` take?"
   ]
  },
  {
   "cell_type": "markdown",
   "id": "limited-knitting",
   "metadata": {},
   "source": [
    "### Vectors, matrices, and arrays\n",
    "\n",
    "These are the three main types of container objects:\n",
    "- Vectors are intrinsically one-dimensional (real only)\n",
    "- Matrices are intrinsically two dimensional (real only)\n",
    "- Arrays can have N dimensions (specify whether int or real)\n",
    "\n",
    "They are **indexed starting from one**. This follows the convention in statistics and linear algebra as well as their implementations in the statistical software packages R, MATLAB, BUGS, and JAGS. General computer programming languages, on the other hand, such as C++ and Python, index arrays starting from zero.\n",
    "\n",
    "#### Vectors and matrices \n",
    "They are mostly used for:\n",
    "- matrix arithmetic operations (e.g., matrix multiplication)\n",
    "- linear algebra functions (e.g., eigenvalues and determinants)\n",
    "- multivariate function parameters and outcomes (e.g., multivariate normal distribution arguments).\n",
    "\n",
    "Vectors in Stan are column vectors. This is good to know for calculations and when assigning vectors to matrices' rows.\n",
    "If you want to specify a row vector, you should use `row_vector`:\n",
    "```\n",
    "vector[4] u;\n",
    "row_vector[7] s;\n",
    "matrix[4, 7] a;\n",
    "\n",
    "// ...\n",
    "a[1] = s;\n",
    "```\n",
    "If v is a column vector or row vector, then v[2] is the second element in the vector. \n",
    "\n",
    "If m is a matrix, m[2] is the second row and m[2, 3] or m[2][3] are the value in the second row and third column.\n",
    "\n",
    "#### Arrays\n",
    "```\n",
    "int n[5];\n",
    "real a[3, 4];\n",
    "real<lower=0> z[5, 4, 2];\n",
    "vector[7] mu[3];\n",
    "```\n",
    "**QUESTION**: What is `mu`?\n",
    "\n",
    "More on indexing: https://mc-stan.org/docs/2_26/reference-manual/language-indexing-section.html"
   ]
  },
  {
   "cell_type": "markdown",
   "id": "overhead-trial",
   "metadata": {},
   "source": [
    "## Program Blocks\n",
    "\n",
    "A Stan program is organized into a sequence of named blocks, the bodies of which consist of **variable declarations**, followed in the case of some blocks with **statements**, executed in the order in which they are written. Variables must be defined to have some value (as well as declared to have some type) before they are used — if they do not, the behavior is undefined.\n",
    "\n",
    "```\n",
    "functions {\n",
    "  // ... function declarations and definitions ...\n",
    "}\n",
    "data {\n",
    "  // ... declarations ...\n",
    "}\n",
    "transformed data {\n",
    "   // ... declarations ... statements ...\n",
    "}\n",
    "parameters {\n",
    "   // ... declarations ...\n",
    "}\n",
    "transformed parameters {\n",
    "   // ... declarations ... statements ...\n",
    "}\n",
    "model {\n",
    "   // ... declarations ... statements ...\n",
    "}\n",
    "generated quantities {\n",
    "   // ... declarations ... statements ...\n",
    "}\n",
    "```\n",
    "\n",
    "The essential blocks for parameter estimation are data, parameters, model, and generated quantities:\n",
    "- The function-definition block contains user-defined functions. \n",
    "- The data block declares the required data for the model. \n",
    "- The transformed data block allows the definition of constants and transforms of the data. \n",
    "- The parameters block declares the model’s parameters — the unconstrained version of the parameters is what’s sampled or optimized.\n",
    "- The transformed parameters block allows variables to be defined in terms of data and parameters that may be used later and will be saved. \n",
    "- The model block is where the log probability function is defined. \n",
    "- The generated quantities block allows derived quantities based on parameters, data, and optionally (pseudo) random number generation.\n",
    "\n",
    "The variables declared in each block have scope over all **subsequent** statements. \n",
    "Exceptions:\n",
    "- variables declared in the model block cannot be accessed in the generated quantities block; to make a variable accessible in the model and generated quantities block, it must be declared as a transformed parameter.\n",
    "- variables declared as function parameters have scope only within that function definition’s body"
   ]
  },
  {
   "cell_type": "markdown",
   "id": "still-kennedy",
   "metadata": {},
   "source": [
    "### Comments\n",
    "\n",
    "You can add line-based comments anywhere whitespace is allowed in a Stan program:\n",
    "\n",
    "```\n",
    "data {\n",
    "  int<lower=0> N;  // number of observations\n",
    "  real y[N];  // observations\n",
    "}\n",
    "```"
   ]
  },
  {
   "cell_type": "markdown",
   "id": "linear-companion",
   "metadata": {},
   "source": [
    "## Examples"
   ]
  },
  {
   "cell_type": "markdown",
   "id": "needed-cheat",
   "metadata": {},
   "source": [
    "Simple linear regression example (no prior specified, no posterior predictives):"
   ]
  },
  {
   "cell_type": "markdown",
   "id": "unsigned-clone",
   "metadata": {},
   "source": [
    "```\n",
    "data {\n",
    "    int<lower=0> N;\n",
    "    vector[N] x;\n",
    "    vector[N] y;\n",
    "}\n",
    "parameters {\n",
    "    real alpha;\n",
    "    real beta;\n",
    "    real<lower=0> sigma;\n",
    "}\n",
    "model {\n",
    "    y ~ normal(alpha + beta * x, sigma);\n",
    "}\n",
    "```"
   ]
  },
  {
   "cell_type": "markdown",
   "id": "recent-singles",
   "metadata": {},
   "source": [
    "Logistic regression example (prior specified, posterior predictives on test data):"
   ]
  },
  {
   "cell_type": "markdown",
   "id": "egyptian-arizona",
   "metadata": {},
   "source": [
    "```\n",
    "data {\n",
    "  int<lower = 1> N_train;\n",
    "  vector[N_train] x_train;\n",
    "  int<lower = 0, upper = 1> y_train[N_train];\n",
    "  int<lower = 1> N_test;\n",
    "  vector[N_test] x_test;\n",
    "}\n",
    "parameters {\n",
    "  real alpha;\n",
    "  real beta;\n",
    "}\n",
    "model {\n",
    "  y_train ~ bernoulli_logit(alpha + beta*x_train);\n",
    "  alpha ~ normal(5, 10);\n",
    "  beta ~ normal(5, 10);\n",
    "}\n",
    "generated quantities {\n",
    "  vector[N_test] y_test;\n",
    "  for(i in 1:N_test) {\n",
    "    y_test[i] = bernoulli_rng(inv_logit(alpha + beta*x_test[i]));\n",
    "  }\n",
    "}\n",
    "```"
   ]
  }
 ],
 "metadata": {
  "kernelspec": {
   "display_name": "Python 3",
   "language": "python",
   "name": "python3"
  },
  "language_info": {
   "codemirror_mode": {
    "name": "ipython",
    "version": 3
   },
   "file_extension": ".py",
   "mimetype": "text/x-python",
   "name": "python",
   "nbconvert_exporter": "python",
   "pygments_lexer": "ipython3",
   "version": "3.7.9"
  }
 },
 "nbformat": 4,
 "nbformat_minor": 5
}
